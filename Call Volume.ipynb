{
 "cells": [
  {
   "cell_type": "code",
   "execution_count": 28,
   "id": "0c2536d3",
   "metadata": {},
   "outputs": [],
   "source": [
    "import pandas as pd"
   ]
  },
  {
   "cell_type": "code",
   "execution_count": 29,
   "id": "926b5e43",
   "metadata": {},
   "outputs": [],
   "source": [
    "import numpy as np"
   ]
  },
  {
   "cell_type": "code",
   "execution_count": 30,
   "id": "5ad8d14e",
   "metadata": {},
   "outputs": [],
   "source": [
    "import matplotlib.pyplot as plt"
   ]
  },
  {
   "cell_type": "code",
   "execution_count": 31,
   "id": "55403a14",
   "metadata": {},
   "outputs": [],
   "source": [
    "import seaborn as sns"
   ]
  },
  {
   "cell_type": "code",
   "execution_count": 32,
   "id": "eb6306c4",
   "metadata": {},
   "outputs": [],
   "source": [
    "sns.set_style(\"whitegrid\")"
   ]
  },
  {
   "cell_type": "code",
   "execution_count": 33,
   "id": "b3e69d47",
   "metadata": {},
   "outputs": [],
   "source": [
    "df = pd.read_csv(\"CV_UE.csv\")"
   ]
  },
  {
   "cell_type": "code",
   "execution_count": 34,
   "id": "7d5c4d35",
   "metadata": {
    "scrolled": true
   },
   "outputs": [
    {
     "data": {
      "text/html": [
       "<div>\n",
       "<style scoped>\n",
       "    .dataframe tbody tr th:only-of-type {\n",
       "        vertical-align: middle;\n",
       "    }\n",
       "\n",
       "    .dataframe tbody tr th {\n",
       "        vertical-align: top;\n",
       "    }\n",
       "\n",
       "    .dataframe thead th {\n",
       "        text-align: right;\n",
       "    }\n",
       "</style>\n",
       "<table border=\"1\" class=\"dataframe\">\n",
       "  <thead>\n",
       "    <tr style=\"text-align: right;\">\n",
       "      <th></th>\n",
       "      <th>Agent_Name</th>\n",
       "      <th>Agent_ID</th>\n",
       "      <th>Customer_Phone_No</th>\n",
       "      <th>Queue_Time(Secs)</th>\n",
       "      <th>Date_&amp;_Time</th>\n",
       "      <th>Time</th>\n",
       "      <th>Time_Bucket</th>\n",
       "      <th>Duration(hh:mm:ss)</th>\n",
       "      <th>Call_Seconds (s)</th>\n",
       "      <th>Call_Status</th>\n",
       "      <th>Wrapped _By</th>\n",
       "      <th>Ringing</th>\n",
       "      <th>IVR _Duration</th>\n",
       "    </tr>\n",
       "  </thead>\n",
       "  <tbody>\n",
       "    <tr>\n",
       "      <th>0</th>\n",
       "      <td>Executives 42</td>\n",
       "      <td>1000042.0</td>\n",
       "      <td>98502XXXXX</td>\n",
       "      <td>2</td>\n",
       "      <td>1/1/2022</td>\n",
       "      <td>9.0</td>\n",
       "      <td>9_10</td>\n",
       "      <td>0:01:36</td>\n",
       "      <td>96.0</td>\n",
       "      <td>answered</td>\n",
       "      <td>Agent</td>\n",
       "      <td>YES</td>\n",
       "      <td>0:00:16</td>\n",
       "    </tr>\n",
       "    <tr>\n",
       "      <th>1</th>\n",
       "      <td>Executives 4</td>\n",
       "      <td>1000004.0</td>\n",
       "      <td>80595XXXXX</td>\n",
       "      <td>0</td>\n",
       "      <td>1/1/2022</td>\n",
       "      <td>9.0</td>\n",
       "      <td>9_10</td>\n",
       "      <td>0:02:20</td>\n",
       "      <td>140.0</td>\n",
       "      <td>answered</td>\n",
       "      <td>Agent</td>\n",
       "      <td>YES</td>\n",
       "      <td>0:00:26</td>\n",
       "    </tr>\n",
       "    <tr>\n",
       "      <th>2</th>\n",
       "      <td>Executives 65</td>\n",
       "      <td>1000065.0</td>\n",
       "      <td>70202XXXXX</td>\n",
       "      <td>0</td>\n",
       "      <td>1/1/2022</td>\n",
       "      <td>9.0</td>\n",
       "      <td>9_10</td>\n",
       "      <td>0:01:25</td>\n",
       "      <td>85.0</td>\n",
       "      <td>answered</td>\n",
       "      <td>AutoWrapped</td>\n",
       "      <td>YES</td>\n",
       "      <td>0:00:16</td>\n",
       "    </tr>\n",
       "    <tr>\n",
       "      <th>3</th>\n",
       "      <td>Executives 55</td>\n",
       "      <td>1000055.0</td>\n",
       "      <td>96104XXXXX</td>\n",
       "      <td>1</td>\n",
       "      <td>1/1/2022</td>\n",
       "      <td>9.0</td>\n",
       "      <td>9_10</td>\n",
       "      <td>0:01:31</td>\n",
       "      <td>91.0</td>\n",
       "      <td>answered</td>\n",
       "      <td>Agent</td>\n",
       "      <td>YES</td>\n",
       "      <td>0:00:25</td>\n",
       "    </tr>\n",
       "    <tr>\n",
       "      <th>4</th>\n",
       "      <td>Executives 21</td>\n",
       "      <td>1000021.0</td>\n",
       "      <td>82001XXXXX</td>\n",
       "      <td>0</td>\n",
       "      <td>1/1/2022</td>\n",
       "      <td>9.0</td>\n",
       "      <td>9_10</td>\n",
       "      <td>0:02:45</td>\n",
       "      <td>165.0</td>\n",
       "      <td>answered</td>\n",
       "      <td>Agent</td>\n",
       "      <td>YES</td>\n",
       "      <td>0:00:23</td>\n",
       "    </tr>\n",
       "    <tr>\n",
       "      <th>...</th>\n",
       "      <td>...</td>\n",
       "      <td>...</td>\n",
       "      <td>...</td>\n",
       "      <td>...</td>\n",
       "      <td>...</td>\n",
       "      <td>...</td>\n",
       "      <td>...</td>\n",
       "      <td>...</td>\n",
       "      <td>...</td>\n",
       "      <td>...</td>\n",
       "      <td>...</td>\n",
       "      <td>...</td>\n",
       "      <td>...</td>\n",
       "    </tr>\n",
       "    <tr>\n",
       "      <th>117983</th>\n",
       "      <td>Executives 7</td>\n",
       "      <td>1000007.0</td>\n",
       "      <td>85399XXXXX</td>\n",
       "      <td>62</td>\n",
       "      <td>1/23/2022</td>\n",
       "      <td>20.0</td>\n",
       "      <td>20_21</td>\n",
       "      <td>0:01:32</td>\n",
       "      <td>92.0</td>\n",
       "      <td>answered</td>\n",
       "      <td>Agent</td>\n",
       "      <td>YES</td>\n",
       "      <td>0:00:42</td>\n",
       "    </tr>\n",
       "    <tr>\n",
       "      <th>117984</th>\n",
       "      <td>Executives 36</td>\n",
       "      <td>1000036.0</td>\n",
       "      <td>88397XXXXX</td>\n",
       "      <td>22</td>\n",
       "      <td>1/23/2022</td>\n",
       "      <td>20.0</td>\n",
       "      <td>20_21</td>\n",
       "      <td>0:01:14</td>\n",
       "      <td>74.0</td>\n",
       "      <td>answered</td>\n",
       "      <td>Agent</td>\n",
       "      <td>YES</td>\n",
       "      <td>0:00:15</td>\n",
       "    </tr>\n",
       "    <tr>\n",
       "      <th>117985</th>\n",
       "      <td>Executives 48</td>\n",
       "      <td>1000048.0</td>\n",
       "      <td>70035XXXXX</td>\n",
       "      <td>14</td>\n",
       "      <td>1/23/2022</td>\n",
       "      <td>20.0</td>\n",
       "      <td>20_21</td>\n",
       "      <td>0:01:48</td>\n",
       "      <td>108.0</td>\n",
       "      <td>answered</td>\n",
       "      <td>Agent</td>\n",
       "      <td>YES</td>\n",
       "      <td>0:00:23</td>\n",
       "    </tr>\n",
       "    <tr>\n",
       "      <th>117986</th>\n",
       "      <td>Executives 33</td>\n",
       "      <td>1000033.0</td>\n",
       "      <td>87773XXXXX</td>\n",
       "      <td>26</td>\n",
       "      <td>1/23/2022</td>\n",
       "      <td>20.0</td>\n",
       "      <td>20_21</td>\n",
       "      <td>0:01:13</td>\n",
       "      <td>73.0</td>\n",
       "      <td>answered</td>\n",
       "      <td>Agent</td>\n",
       "      <td>YES</td>\n",
       "      <td>0:01:05</td>\n",
       "    </tr>\n",
       "    <tr>\n",
       "      <th>117987</th>\n",
       "      <td>Executives 58</td>\n",
       "      <td>1000058.0</td>\n",
       "      <td>83800XXXXX</td>\n",
       "      <td>5</td>\n",
       "      <td>1/23/2022</td>\n",
       "      <td>20.0</td>\n",
       "      <td>20_21</td>\n",
       "      <td>0:01:22</td>\n",
       "      <td>82.0</td>\n",
       "      <td>answered</td>\n",
       "      <td>Agent</td>\n",
       "      <td>YES</td>\n",
       "      <td>0:00:14</td>\n",
       "    </tr>\n",
       "  </tbody>\n",
       "</table>\n",
       "<p>117988 rows × 13 columns</p>\n",
       "</div>"
      ],
      "text/plain": [
       "           Agent_Name   Agent_ID Customer_Phone_No  Queue_Time(Secs)  \\\n",
       "0       Executives 42  1000042.0        98502XXXXX                 2   \n",
       "1        Executives 4  1000004.0        80595XXXXX                 0   \n",
       "2       Executives 65  1000065.0        70202XXXXX                 0   \n",
       "3       Executives 55  1000055.0        96104XXXXX                 1   \n",
       "4       Executives 21  1000021.0        82001XXXXX                 0   \n",
       "...               ...        ...               ...               ...   \n",
       "117983   Executives 7  1000007.0        85399XXXXX                62   \n",
       "117984  Executives 36  1000036.0        88397XXXXX                22   \n",
       "117985  Executives 48  1000048.0        70035XXXXX                14   \n",
       "117986  Executives 33  1000033.0        87773XXXXX                26   \n",
       "117987  Executives 58  1000058.0        83800XXXXX                 5   \n",
       "\n",
       "       Date_&_Time  Time Time_Bucket Duration(hh:mm:ss)  Call_Seconds (s)  \\\n",
       "0         1/1/2022   9.0        9_10            0:01:36              96.0   \n",
       "1         1/1/2022   9.0        9_10            0:02:20             140.0   \n",
       "2         1/1/2022   9.0        9_10            0:01:25              85.0   \n",
       "3         1/1/2022   9.0        9_10            0:01:31              91.0   \n",
       "4         1/1/2022   9.0        9_10            0:02:45             165.0   \n",
       "...            ...   ...         ...                ...               ...   \n",
       "117983   1/23/2022  20.0       20_21            0:01:32              92.0   \n",
       "117984   1/23/2022  20.0       20_21            0:01:14              74.0   \n",
       "117985   1/23/2022  20.0       20_21            0:01:48             108.0   \n",
       "117986   1/23/2022  20.0       20_21            0:01:13              73.0   \n",
       "117987   1/23/2022  20.0       20_21            0:01:22              82.0   \n",
       "\n",
       "       Call_Status  Wrapped _By Ringing IVR _Duration  \n",
       "0         answered        Agent     YES       0:00:16  \n",
       "1         answered        Agent     YES       0:00:26  \n",
       "2         answered  AutoWrapped     YES       0:00:16  \n",
       "3         answered        Agent     YES       0:00:25  \n",
       "4         answered        Agent     YES       0:00:23  \n",
       "...            ...          ...     ...           ...  \n",
       "117983    answered        Agent     YES       0:00:42  \n",
       "117984    answered        Agent     YES       0:00:15  \n",
       "117985    answered        Agent     YES       0:00:23  \n",
       "117986    answered        Agent     YES       0:01:05  \n",
       "117987    answered        Agent     YES       0:00:14  \n",
       "\n",
       "[117988 rows x 13 columns]"
      ]
     },
     "execution_count": 34,
     "metadata": {},
     "output_type": "execute_result"
    }
   ],
   "source": [
    "df"
   ]
  },
  {
   "cell_type": "code",
   "execution_count": 35,
   "id": "6f7bbdba",
   "metadata": {
    "scrolled": true
   },
   "outputs": [
    {
     "data": {
      "text/plain": [
       "Agent_Name            34198\n",
       "Agent_ID              34198\n",
       "Customer_Phone_No         0\n",
       "Queue_Time(Secs)          0\n",
       "Date_&_Time               0\n",
       "Time                      0\n",
       "Time_Bucket               0\n",
       "Duration(hh:mm:ss)        0\n",
       "Call_Seconds (s)          0\n",
       "Call_Status               0\n",
       "Wrapped _By           47877\n",
       "Ringing                   0\n",
       "IVR _Duration             0\n",
       "dtype: int64"
      ]
     },
     "execution_count": 35,
     "metadata": {},
     "output_type": "execute_result"
    }
   ],
   "source": [
    "df.isnull().sum()"
   ]
  },
  {
   "cell_type": "code",
   "execution_count": 36,
   "id": "18faf1c1",
   "metadata": {},
   "outputs": [
    {
     "data": {
      "text/plain": [
       "47877"
      ]
     },
     "execution_count": 36,
     "metadata": {},
     "output_type": "execute_result"
    }
   ],
   "source": [
    "34198+13679"
   ]
  },
  {
   "cell_type": "code",
   "execution_count": 37,
   "id": "6e46b70d",
   "metadata": {},
   "outputs": [],
   "source": [
    "# Randomnly filling null agent names"
   ]
  },
  {
   "cell_type": "code",
   "execution_count": 38,
   "id": "dd2c6a3e",
   "metadata": {},
   "outputs": [],
   "source": [
    "df['Agent_Name'] = df['Agent_Name'].fillna(f\"Executives {np.random.randint(1,100)}\")"
   ]
  },
  {
   "cell_type": "code",
   "execution_count": 39,
   "id": "213041b2",
   "metadata": {},
   "outputs": [],
   "source": [
    "df['Agent_ID'] = df['Agent_ID'].fillna(np.random.randint(10000001.0,10000066.0))"
   ]
  },
  {
   "cell_type": "code",
   "execution_count": 40,
   "id": "53b99de8",
   "metadata": {},
   "outputs": [],
   "source": [
    "df['Agent_ID'] = df['Agent_ID'].astype(int) #fillinf up nan values "
   ]
  },
  {
   "cell_type": "code",
   "execution_count": 41,
   "id": "5638cd63",
   "metadata": {},
   "outputs": [
    {
     "data": {
      "text/plain": [
       "Agent_Name                0\n",
       "Agent_ID                  0\n",
       "Customer_Phone_No         0\n",
       "Queue_Time(Secs)          0\n",
       "Date_&_Time               0\n",
       "Time                      0\n",
       "Time_Bucket               0\n",
       "Duration(hh:mm:ss)        0\n",
       "Call_Seconds (s)          0\n",
       "Call_Status               0\n",
       "Wrapped _By           47877\n",
       "Ringing                   0\n",
       "IVR _Duration             0\n",
       "dtype: int64"
      ]
     },
     "execution_count": 41,
     "metadata": {},
     "output_type": "execute_result"
    }
   ],
   "source": [
    "df.isnull().sum()"
   ]
  },
  {
   "cell_type": "code",
   "execution_count": 42,
   "id": "c52235b3",
   "metadata": {},
   "outputs": [],
   "source": [
    "df['Wrapped _By'] = df['Wrapped _By'].fillna(\"Not Available\")"
   ]
  },
  {
   "cell_type": "code",
   "execution_count": 43,
   "id": "a17733b6",
   "metadata": {
    "scrolled": true
   },
   "outputs": [
    {
     "data": {
      "text/html": [
       "<div>\n",
       "<style scoped>\n",
       "    .dataframe tbody tr th:only-of-type {\n",
       "        vertical-align: middle;\n",
       "    }\n",
       "\n",
       "    .dataframe tbody tr th {\n",
       "        vertical-align: top;\n",
       "    }\n",
       "\n",
       "    .dataframe thead th {\n",
       "        text-align: right;\n",
       "    }\n",
       "</style>\n",
       "<table border=\"1\" class=\"dataframe\">\n",
       "  <thead>\n",
       "    <tr style=\"text-align: right;\">\n",
       "      <th></th>\n",
       "      <th>Agent_Name</th>\n",
       "      <th>Agent_ID</th>\n",
       "      <th>Customer_Phone_No</th>\n",
       "      <th>Queue_Time(Secs)</th>\n",
       "      <th>Date_&amp;_Time</th>\n",
       "      <th>Time</th>\n",
       "      <th>Time_Bucket</th>\n",
       "      <th>Duration(hh:mm:ss)</th>\n",
       "      <th>Call_Seconds (s)</th>\n",
       "      <th>Call_Status</th>\n",
       "      <th>Wrapped _By</th>\n",
       "      <th>Ringing</th>\n",
       "      <th>IVR _Duration</th>\n",
       "    </tr>\n",
       "  </thead>\n",
       "  <tbody>\n",
       "    <tr>\n",
       "      <th>0</th>\n",
       "      <td>Executives 42</td>\n",
       "      <td>1000042</td>\n",
       "      <td>98502XXXXX</td>\n",
       "      <td>2</td>\n",
       "      <td>1/1/2022</td>\n",
       "      <td>9.0</td>\n",
       "      <td>9_10</td>\n",
       "      <td>0:01:36</td>\n",
       "      <td>96.0</td>\n",
       "      <td>answered</td>\n",
       "      <td>Agent</td>\n",
       "      <td>YES</td>\n",
       "      <td>0:00:16</td>\n",
       "    </tr>\n",
       "    <tr>\n",
       "      <th>1</th>\n",
       "      <td>Executives 4</td>\n",
       "      <td>1000004</td>\n",
       "      <td>80595XXXXX</td>\n",
       "      <td>0</td>\n",
       "      <td>1/1/2022</td>\n",
       "      <td>9.0</td>\n",
       "      <td>9_10</td>\n",
       "      <td>0:02:20</td>\n",
       "      <td>140.0</td>\n",
       "      <td>answered</td>\n",
       "      <td>Agent</td>\n",
       "      <td>YES</td>\n",
       "      <td>0:00:26</td>\n",
       "    </tr>\n",
       "    <tr>\n",
       "      <th>2</th>\n",
       "      <td>Executives 65</td>\n",
       "      <td>1000065</td>\n",
       "      <td>70202XXXXX</td>\n",
       "      <td>0</td>\n",
       "      <td>1/1/2022</td>\n",
       "      <td>9.0</td>\n",
       "      <td>9_10</td>\n",
       "      <td>0:01:25</td>\n",
       "      <td>85.0</td>\n",
       "      <td>answered</td>\n",
       "      <td>AutoWrapped</td>\n",
       "      <td>YES</td>\n",
       "      <td>0:00:16</td>\n",
       "    </tr>\n",
       "    <tr>\n",
       "      <th>3</th>\n",
       "      <td>Executives 55</td>\n",
       "      <td>1000055</td>\n",
       "      <td>96104XXXXX</td>\n",
       "      <td>1</td>\n",
       "      <td>1/1/2022</td>\n",
       "      <td>9.0</td>\n",
       "      <td>9_10</td>\n",
       "      <td>0:01:31</td>\n",
       "      <td>91.0</td>\n",
       "      <td>answered</td>\n",
       "      <td>Agent</td>\n",
       "      <td>YES</td>\n",
       "      <td>0:00:25</td>\n",
       "    </tr>\n",
       "    <tr>\n",
       "      <th>4</th>\n",
       "      <td>Executives 21</td>\n",
       "      <td>1000021</td>\n",
       "      <td>82001XXXXX</td>\n",
       "      <td>0</td>\n",
       "      <td>1/1/2022</td>\n",
       "      <td>9.0</td>\n",
       "      <td>9_10</td>\n",
       "      <td>0:02:45</td>\n",
       "      <td>165.0</td>\n",
       "      <td>answered</td>\n",
       "      <td>Agent</td>\n",
       "      <td>YES</td>\n",
       "      <td>0:00:23</td>\n",
       "    </tr>\n",
       "    <tr>\n",
       "      <th>...</th>\n",
       "      <td>...</td>\n",
       "      <td>...</td>\n",
       "      <td>...</td>\n",
       "      <td>...</td>\n",
       "      <td>...</td>\n",
       "      <td>...</td>\n",
       "      <td>...</td>\n",
       "      <td>...</td>\n",
       "      <td>...</td>\n",
       "      <td>...</td>\n",
       "      <td>...</td>\n",
       "      <td>...</td>\n",
       "      <td>...</td>\n",
       "    </tr>\n",
       "    <tr>\n",
       "      <th>117983</th>\n",
       "      <td>Executives 7</td>\n",
       "      <td>1000007</td>\n",
       "      <td>85399XXXXX</td>\n",
       "      <td>62</td>\n",
       "      <td>1/23/2022</td>\n",
       "      <td>20.0</td>\n",
       "      <td>20_21</td>\n",
       "      <td>0:01:32</td>\n",
       "      <td>92.0</td>\n",
       "      <td>answered</td>\n",
       "      <td>Agent</td>\n",
       "      <td>YES</td>\n",
       "      <td>0:00:42</td>\n",
       "    </tr>\n",
       "    <tr>\n",
       "      <th>117984</th>\n",
       "      <td>Executives 36</td>\n",
       "      <td>1000036</td>\n",
       "      <td>88397XXXXX</td>\n",
       "      <td>22</td>\n",
       "      <td>1/23/2022</td>\n",
       "      <td>20.0</td>\n",
       "      <td>20_21</td>\n",
       "      <td>0:01:14</td>\n",
       "      <td>74.0</td>\n",
       "      <td>answered</td>\n",
       "      <td>Agent</td>\n",
       "      <td>YES</td>\n",
       "      <td>0:00:15</td>\n",
       "    </tr>\n",
       "    <tr>\n",
       "      <th>117985</th>\n",
       "      <td>Executives 48</td>\n",
       "      <td>1000048</td>\n",
       "      <td>70035XXXXX</td>\n",
       "      <td>14</td>\n",
       "      <td>1/23/2022</td>\n",
       "      <td>20.0</td>\n",
       "      <td>20_21</td>\n",
       "      <td>0:01:48</td>\n",
       "      <td>108.0</td>\n",
       "      <td>answered</td>\n",
       "      <td>Agent</td>\n",
       "      <td>YES</td>\n",
       "      <td>0:00:23</td>\n",
       "    </tr>\n",
       "    <tr>\n",
       "      <th>117986</th>\n",
       "      <td>Executives 33</td>\n",
       "      <td>1000033</td>\n",
       "      <td>87773XXXXX</td>\n",
       "      <td>26</td>\n",
       "      <td>1/23/2022</td>\n",
       "      <td>20.0</td>\n",
       "      <td>20_21</td>\n",
       "      <td>0:01:13</td>\n",
       "      <td>73.0</td>\n",
       "      <td>answered</td>\n",
       "      <td>Agent</td>\n",
       "      <td>YES</td>\n",
       "      <td>0:01:05</td>\n",
       "    </tr>\n",
       "    <tr>\n",
       "      <th>117987</th>\n",
       "      <td>Executives 58</td>\n",
       "      <td>1000058</td>\n",
       "      <td>83800XXXXX</td>\n",
       "      <td>5</td>\n",
       "      <td>1/23/2022</td>\n",
       "      <td>20.0</td>\n",
       "      <td>20_21</td>\n",
       "      <td>0:01:22</td>\n",
       "      <td>82.0</td>\n",
       "      <td>answered</td>\n",
       "      <td>Agent</td>\n",
       "      <td>YES</td>\n",
       "      <td>0:00:14</td>\n",
       "    </tr>\n",
       "  </tbody>\n",
       "</table>\n",
       "<p>117988 rows × 13 columns</p>\n",
       "</div>"
      ],
      "text/plain": [
       "           Agent_Name  Agent_ID Customer_Phone_No  Queue_Time(Secs)  \\\n",
       "0       Executives 42   1000042        98502XXXXX                 2   \n",
       "1        Executives 4   1000004        80595XXXXX                 0   \n",
       "2       Executives 65   1000065        70202XXXXX                 0   \n",
       "3       Executives 55   1000055        96104XXXXX                 1   \n",
       "4       Executives 21   1000021        82001XXXXX                 0   \n",
       "...               ...       ...               ...               ...   \n",
       "117983   Executives 7   1000007        85399XXXXX                62   \n",
       "117984  Executives 36   1000036        88397XXXXX                22   \n",
       "117985  Executives 48   1000048        70035XXXXX                14   \n",
       "117986  Executives 33   1000033        87773XXXXX                26   \n",
       "117987  Executives 58   1000058        83800XXXXX                 5   \n",
       "\n",
       "       Date_&_Time  Time Time_Bucket Duration(hh:mm:ss)  Call_Seconds (s)  \\\n",
       "0         1/1/2022   9.0        9_10            0:01:36              96.0   \n",
       "1         1/1/2022   9.0        9_10            0:02:20             140.0   \n",
       "2         1/1/2022   9.0        9_10            0:01:25              85.0   \n",
       "3         1/1/2022   9.0        9_10            0:01:31              91.0   \n",
       "4         1/1/2022   9.0        9_10            0:02:45             165.0   \n",
       "...            ...   ...         ...                ...               ...   \n",
       "117983   1/23/2022  20.0       20_21            0:01:32              92.0   \n",
       "117984   1/23/2022  20.0       20_21            0:01:14              74.0   \n",
       "117985   1/23/2022  20.0       20_21            0:01:48             108.0   \n",
       "117986   1/23/2022  20.0       20_21            0:01:13              73.0   \n",
       "117987   1/23/2022  20.0       20_21            0:01:22              82.0   \n",
       "\n",
       "       Call_Status  Wrapped _By Ringing IVR _Duration  \n",
       "0         answered        Agent     YES       0:00:16  \n",
       "1         answered        Agent     YES       0:00:26  \n",
       "2         answered  AutoWrapped     YES       0:00:16  \n",
       "3         answered        Agent     YES       0:00:25  \n",
       "4         answered        Agent     YES       0:00:23  \n",
       "...            ...          ...     ...           ...  \n",
       "117983    answered        Agent     YES       0:00:42  \n",
       "117984    answered        Agent     YES       0:00:15  \n",
       "117985    answered        Agent     YES       0:00:23  \n",
       "117986    answered        Agent     YES       0:01:05  \n",
       "117987    answered        Agent     YES       0:00:14  \n",
       "\n",
       "[117988 rows x 13 columns]"
      ]
     },
     "execution_count": 43,
     "metadata": {},
     "output_type": "execute_result"
    }
   ],
   "source": [
    "df"
   ]
  },
  {
   "cell_type": "code",
   "execution_count": 44,
   "id": "5b17d590",
   "metadata": {},
   "outputs": [
    {
     "data": {
      "text/plain": [
       "0        2023-02-14 00:01:36\n",
       "1        2023-02-14 00:02:20\n",
       "2        2023-02-14 00:01:25\n",
       "3        2023-02-14 00:01:31\n",
       "4        2023-02-14 00:02:45\n",
       "                 ...        \n",
       "117983   2023-02-14 00:01:32\n",
       "117984   2023-02-14 00:01:14\n",
       "117985   2023-02-14 00:01:48\n",
       "117986   2023-02-14 00:01:13\n",
       "117987   2023-02-14 00:01:22\n",
       "Name: Duration(hh:mm:ss), Length: 117988, dtype: datetime64[ns]"
      ]
     },
     "execution_count": 44,
     "metadata": {},
     "output_type": "execute_result"
    }
   ],
   "source": [
    "pd.to_datetime(df['Duration(hh:mm:ss)'])"
   ]
  },
  {
   "cell_type": "code",
   "execution_count": 45,
   "id": "48d84ca4",
   "metadata": {},
   "outputs": [],
   "source": [
    "x = df.groupby(by = ['Time_Bucket']).mean()['Call_Seconds (s)'].to_frame()"
   ]
  },
  {
   "cell_type": "code",
   "execution_count": 46,
   "id": "9ed30415",
   "metadata": {},
   "outputs": [
    {
     "data": {
      "text/html": [
       "<div>\n",
       "<style scoped>\n",
       "    .dataframe tbody tr th:only-of-type {\n",
       "        vertical-align: middle;\n",
       "    }\n",
       "\n",
       "    .dataframe tbody tr th {\n",
       "        vertical-align: top;\n",
       "    }\n",
       "\n",
       "    .dataframe thead th {\n",
       "        text-align: right;\n",
       "    }\n",
       "</style>\n",
       "<table border=\"1\" class=\"dataframe\">\n",
       "  <thead>\n",
       "    <tr style=\"text-align: right;\">\n",
       "      <th></th>\n",
       "      <th>Call_Seconds (s)</th>\n",
       "    </tr>\n",
       "    <tr>\n",
       "      <th>Time_Bucket</th>\n",
       "      <th></th>\n",
       "    </tr>\n",
       "  </thead>\n",
       "  <tbody>\n",
       "    <tr>\n",
       "      <th>10_11</th>\n",
       "      <td>97.424022</td>\n",
       "    </tr>\n",
       "    <tr>\n",
       "      <th>11_12</th>\n",
       "      <td>116.783741</td>\n",
       "    </tr>\n",
       "    <tr>\n",
       "      <th>12_13</th>\n",
       "      <td>144.725024</td>\n",
       "    </tr>\n",
       "    <tr>\n",
       "      <th>13_14</th>\n",
       "      <td>149.540957</td>\n",
       "    </tr>\n",
       "    <tr>\n",
       "      <th>14_15</th>\n",
       "      <td>146.969321</td>\n",
       "    </tr>\n",
       "    <tr>\n",
       "      <th>15_16</th>\n",
       "      <td>169.896823</td>\n",
       "    </tr>\n",
       "    <tr>\n",
       "      <th>16_17</th>\n",
       "      <td>181.439349</td>\n",
       "    </tr>\n",
       "    <tr>\n",
       "      <th>17_18</th>\n",
       "      <td>179.724514</td>\n",
       "    </tr>\n",
       "    <tr>\n",
       "      <th>18_19</th>\n",
       "      <td>174.324675</td>\n",
       "    </tr>\n",
       "    <tr>\n",
       "      <th>19_20</th>\n",
       "      <td>144.582547</td>\n",
       "    </tr>\n",
       "    <tr>\n",
       "      <th>20_21</th>\n",
       "      <td>105.949137</td>\n",
       "    </tr>\n",
       "    <tr>\n",
       "      <th>9_10</th>\n",
       "      <td>92.010325</td>\n",
       "    </tr>\n",
       "  </tbody>\n",
       "</table>\n",
       "</div>"
      ],
      "text/plain": [
       "             Call_Seconds (s)\n",
       "Time_Bucket                  \n",
       "10_11               97.424022\n",
       "11_12              116.783741\n",
       "12_13              144.725024\n",
       "13_14              149.540957\n",
       "14_15              146.969321\n",
       "15_16              169.896823\n",
       "16_17              181.439349\n",
       "17_18              179.724514\n",
       "18_19              174.324675\n",
       "19_20              144.582547\n",
       "20_21              105.949137\n",
       "9_10                92.010325"
      ]
     },
     "execution_count": 46,
     "metadata": {},
     "output_type": "execute_result"
    }
   ],
   "source": [
    "x"
   ]
  },
  {
   "cell_type": "code",
   "execution_count": 47,
   "id": "6e6d2122",
   "metadata": {},
   "outputs": [
    {
     "data": {
      "image/png": "[encoded data removed]",
      "text/plain": [
       "<Figure size 720x720 with 1 Axes>"
      ]
     },
     "metadata": {},
     "output_type": "display_data"
    }
   ],
   "source": [
    "plt.figure(figsize=(10,10))\n",
    "plt.title(\"Average call duration for each time bucket\")\n",
    "\n",
    "main = sns.barplot(x = 'Time_Bucket', y = 'Call_Seconds (s)',data = df)\n",
    "plt.show(main)"
   ]
  },
  {
   "cell_type": "code",
   "execution_count": 48,
   "id": "3a2191ee",
   "metadata": {},
   "outputs": [],
   "source": [
    "df['Time_Bucket'] = df['Time_Bucket'].str.replace(\"_\",\"-\")"
   ]
  },
  {
   "cell_type": "code",
   "execution_count": 49,
   "id": "b2868280",
   "metadata": {
    "scrolled": false
   },
   "outputs": [
    {
     "name": "stderr",
     "output_type": "stream",
     "text": [
      "C:\\Users\\ashuc\\anaconda3\\lib\\site-packages\\seaborn\\_decorators.py:36: FutureWarning: Pass the following variable as a keyword arg: x. From version 0.12, the only valid positional argument will be `data`, and passing other arguments without an explicit keyword will result in an error or misinterpretation.\n",
      "  warnings.warn(\n"
     ]
    },
    {
     "data": {
      "text/plain": [
       "<AxesSubplot:title={'center':'Number of Calls in each time bucket'}, xlabel='Time_Bucket', ylabel='count'>"
      ]
     },
     "execution_count": 49,
     "metadata": {},
     "output_type": "execute_result"
    },
    {
     "data": {
      "image/png": "[encoded data removed]",
      "text/plain": [
       "<Figure size 720x720 with 1 Axes>"
      ]
     },
     "metadata": {},
     "output_type": "display_data"
    }
   ],
   "source": [
    "plt.figure(figsize=(10,10))\n",
    "plt.title(\"Number of Calls in each time bucket\")\n",
    "\n",
    "sns.countplot(df['Time_Bucket'])\n"
   ]
  },
  {
   "cell_type": "code",
   "execution_count": 50,
   "id": "cbe1b0ba",
   "metadata": {},
   "outputs": [
    {
     "data": {
      "text/html": [
       "<div>\n",
       "<style scoped>\n",
       "    .dataframe tbody tr th:only-of-type {\n",
       "        vertical-align: middle;\n",
       "    }\n",
       "\n",
       "    .dataframe tbody tr th {\n",
       "        vertical-align: top;\n",
       "    }\n",
       "\n",
       "    .dataframe thead th {\n",
       "        text-align: right;\n",
       "    }\n",
       "</style>\n",
       "<table border=\"1\" class=\"dataframe\">\n",
       "  <thead>\n",
       "    <tr style=\"text-align: right;\">\n",
       "      <th></th>\n",
       "      <th>Agent_Name</th>\n",
       "      <th>Agent_ID</th>\n",
       "      <th>Customer_Phone_No</th>\n",
       "      <th>Queue_Time(Secs)</th>\n",
       "      <th>Date_&amp;_Time</th>\n",
       "      <th>Time</th>\n",
       "      <th>Time_Bucket</th>\n",
       "      <th>Duration(hh:mm:ss)</th>\n",
       "      <th>Call_Seconds (s)</th>\n",
       "      <th>Call_Status</th>\n",
       "      <th>Wrapped _By</th>\n",
       "      <th>Ringing</th>\n",
       "      <th>IVR _Duration</th>\n",
       "    </tr>\n",
       "  </thead>\n",
       "  <tbody>\n",
       "    <tr>\n",
       "      <th>0</th>\n",
       "      <td>Executives 42</td>\n",
       "      <td>1000042</td>\n",
       "      <td>98502XXXXX</td>\n",
       "      <td>2</td>\n",
       "      <td>1/1/2022</td>\n",
       "      <td>9.0</td>\n",
       "      <td>9-10</td>\n",
       "      <td>0:01:36</td>\n",
       "      <td>96.0</td>\n",
       "      <td>answered</td>\n",
       "      <td>Agent</td>\n",
       "      <td>YES</td>\n",
       "      <td>0:00:16</td>\n",
       "    </tr>\n",
       "    <tr>\n",
       "      <th>1</th>\n",
       "      <td>Executives 4</td>\n",
       "      <td>1000004</td>\n",
       "      <td>80595XXXXX</td>\n",
       "      <td>0</td>\n",
       "      <td>1/1/2022</td>\n",
       "      <td>9.0</td>\n",
       "      <td>9-10</td>\n",
       "      <td>0:02:20</td>\n",
       "      <td>140.0</td>\n",
       "      <td>answered</td>\n",
       "      <td>Agent</td>\n",
       "      <td>YES</td>\n",
       "      <td>0:00:26</td>\n",
       "    </tr>\n",
       "    <tr>\n",
       "      <th>2</th>\n",
       "      <td>Executives 65</td>\n",
       "      <td>1000065</td>\n",
       "      <td>70202XXXXX</td>\n",
       "      <td>0</td>\n",
       "      <td>1/1/2022</td>\n",
       "      <td>9.0</td>\n",
       "      <td>9-10</td>\n",
       "      <td>0:01:25</td>\n",
       "      <td>85.0</td>\n",
       "      <td>answered</td>\n",
       "      <td>AutoWrapped</td>\n",
       "      <td>YES</td>\n",
       "      <td>0:00:16</td>\n",
       "    </tr>\n",
       "    <tr>\n",
       "      <th>3</th>\n",
       "      <td>Executives 55</td>\n",
       "      <td>1000055</td>\n",
       "      <td>96104XXXXX</td>\n",
       "      <td>1</td>\n",
       "      <td>1/1/2022</td>\n",
       "      <td>9.0</td>\n",
       "      <td>9-10</td>\n",
       "      <td>0:01:31</td>\n",
       "      <td>91.0</td>\n",
       "      <td>answered</td>\n",
       "      <td>Agent</td>\n",
       "      <td>YES</td>\n",
       "      <td>0:00:25</td>\n",
       "    </tr>\n",
       "    <tr>\n",
       "      <th>4</th>\n",
       "      <td>Executives 21</td>\n",
       "      <td>1000021</td>\n",
       "      <td>82001XXXXX</td>\n",
       "      <td>0</td>\n",
       "      <td>1/1/2022</td>\n",
       "      <td>9.0</td>\n",
       "      <td>9-10</td>\n",
       "      <td>0:02:45</td>\n",
       "      <td>165.0</td>\n",
       "      <td>answered</td>\n",
       "      <td>Agent</td>\n",
       "      <td>YES</td>\n",
       "      <td>0:00:23</td>\n",
       "    </tr>\n",
       "    <tr>\n",
       "      <th>...</th>\n",
       "      <td>...</td>\n",
       "      <td>...</td>\n",
       "      <td>...</td>\n",
       "      <td>...</td>\n",
       "      <td>...</td>\n",
       "      <td>...</td>\n",
       "      <td>...</td>\n",
       "      <td>...</td>\n",
       "      <td>...</td>\n",
       "      <td>...</td>\n",
       "      <td>...</td>\n",
       "      <td>...</td>\n",
       "      <td>...</td>\n",
       "    </tr>\n",
       "    <tr>\n",
       "      <th>117983</th>\n",
       "      <td>Executives 7</td>\n",
       "      <td>1000007</td>\n",
       "      <td>85399XXXXX</td>\n",
       "      <td>62</td>\n",
       "      <td>1/23/2022</td>\n",
       "      <td>20.0</td>\n",
       "      <td>20-21</td>\n",
       "      <td>0:01:32</td>\n",
       "      <td>92.0</td>\n",
       "      <td>answered</td>\n",
       "      <td>Agent</td>\n",
       "      <td>YES</td>\n",
       "      <td>0:00:42</td>\n",
       "    </tr>\n",
       "    <tr>\n",
       "      <th>117984</th>\n",
       "      <td>Executives 36</td>\n",
       "      <td>1000036</td>\n",
       "      <td>88397XXXXX</td>\n",
       "      <td>22</td>\n",
       "      <td>1/23/2022</td>\n",
       "      <td>20.0</td>\n",
       "      <td>20-21</td>\n",
       "      <td>0:01:14</td>\n",
       "      <td>74.0</td>\n",
       "      <td>answered</td>\n",
       "      <td>Agent</td>\n",
       "      <td>YES</td>\n",
       "      <td>0:00:15</td>\n",
       "    </tr>\n",
       "    <tr>\n",
       "      <th>117985</th>\n",
       "      <td>Executives 48</td>\n",
       "      <td>1000048</td>\n",
       "      <td>70035XXXXX</td>\n",
       "      <td>14</td>\n",
       "      <td>1/23/2022</td>\n",
       "      <td>20.0</td>\n",
       "      <td>20-21</td>\n",
       "      <td>0:01:48</td>\n",
       "      <td>108.0</td>\n",
       "      <td>answered</td>\n",
       "      <td>Agent</td>\n",
       "      <td>YES</td>\n",
       "      <td>0:00:23</td>\n",
       "    </tr>\n",
       "    <tr>\n",
       "      <th>117986</th>\n",
       "      <td>Executives 33</td>\n",
       "      <td>1000033</td>\n",
       "      <td>87773XXXXX</td>\n",
       "      <td>26</td>\n",
       "      <td>1/23/2022</td>\n",
       "      <td>20.0</td>\n",
       "      <td>20-21</td>\n",
       "      <td>0:01:13</td>\n",
       "      <td>73.0</td>\n",
       "      <td>answered</td>\n",
       "      <td>Agent</td>\n",
       "      <td>YES</td>\n",
       "      <td>0:01:05</td>\n",
       "    </tr>\n",
       "    <tr>\n",
       "      <th>117987</th>\n",
       "      <td>Executives 58</td>\n",
       "      <td>1000058</td>\n",
       "      <td>83800XXXXX</td>\n",
       "      <td>5</td>\n",
       "      <td>1/23/2022</td>\n",
       "      <td>20.0</td>\n",
       "      <td>20-21</td>\n",
       "      <td>0:01:22</td>\n",
       "      <td>82.0</td>\n",
       "      <td>answered</td>\n",
       "      <td>Agent</td>\n",
       "      <td>YES</td>\n",
       "      <td>0:00:14</td>\n",
       "    </tr>\n",
       "  </tbody>\n",
       "</table>\n",
       "<p>117988 rows × 13 columns</p>\n",
       "</div>"
      ],
      "text/plain": [
       "           Agent_Name  Agent_ID Customer_Phone_No  Queue_Time(Secs)  \\\n",
       "0       Executives 42   1000042        98502XXXXX                 2   \n",
       "1        Executives 4   1000004        80595XXXXX                 0   \n",
       "2       Executives 65   1000065        70202XXXXX                 0   \n",
       "3       Executives 55   1000055        96104XXXXX                 1   \n",
       "4       Executives 21   1000021        82001XXXXX                 0   \n",
       "...               ...       ...               ...               ...   \n",
       "117983   Executives 7   1000007        85399XXXXX                62   \n",
       "117984  Executives 36   1000036        88397XXXXX                22   \n",
       "117985  Executives 48   1000048        70035XXXXX                14   \n",
       "117986  Executives 33   1000033        87773XXXXX                26   \n",
       "117987  Executives 58   1000058        83800XXXXX                 5   \n",
       "\n",
       "       Date_&_Time  Time Time_Bucket Duration(hh:mm:ss)  Call_Seconds (s)  \\\n",
       "0         1/1/2022   9.0        9-10            0:01:36              96.0   \n",
       "1         1/1/2022   9.0        9-10            0:02:20             140.0   \n",
       "2         1/1/2022   9.0        9-10            0:01:25              85.0   \n",
       "3         1/1/2022   9.0        9-10            0:01:31              91.0   \n",
       "4         1/1/2022   9.0        9-10            0:02:45             165.0   \n",
       "...            ...   ...         ...                ...               ...   \n",
       "117983   1/23/2022  20.0       20-21            0:01:32              92.0   \n",
       "117984   1/23/2022  20.0       20-21            0:01:14              74.0   \n",
       "117985   1/23/2022  20.0       20-21            0:01:48             108.0   \n",
       "117986   1/23/2022  20.0       20-21            0:01:13              73.0   \n",
       "117987   1/23/2022  20.0       20-21            0:01:22              82.0   \n",
       "\n",
       "       Call_Status  Wrapped _By Ringing IVR _Duration  \n",
       "0         answered        Agent     YES       0:00:16  \n",
       "1         answered        Agent     YES       0:00:26  \n",
       "2         answered  AutoWrapped     YES       0:00:16  \n",
       "3         answered        Agent     YES       0:00:25  \n",
       "4         answered        Agent     YES       0:00:23  \n",
       "...            ...          ...     ...           ...  \n",
       "117983    answered        Agent     YES       0:00:42  \n",
       "117984    answered        Agent     YES       0:00:15  \n",
       "117985    answered        Agent     YES       0:00:23  \n",
       "117986    answered        Agent     YES       0:01:05  \n",
       "117987    answered        Agent     YES       0:00:14  \n",
       "\n",
       "[117988 rows x 13 columns]"
      ]
     },
     "execution_count": 50,
     "metadata": {},
     "output_type": "execute_result"
    }
   ],
   "source": [
    "df"
   ]
  },
  {
   "cell_type": "code",
   "execution_count": 51,
   "id": "c03905aa",
   "metadata": {
    "scrolled": true
   },
   "outputs": [
    {
     "data": {
      "text/plain": [
       "[Text(0.5, 1.0, 'Total Number of Answered/Abandoned/Transfered Calls')]"
      ]
     },
     "execution_count": 51,
     "metadata": {},
     "output_type": "execute_result"
    },
    {
     "data": {
      "image/png": "[encoded data removed]",
      "text/plain": [
       "<Figure size 432x288 with 1 Axes>"
      ]
     },
     "metadata": {},
     "output_type": "display_data"
    },
    {
     "data": {
      "image/png": "[encoded data removed]",
      "text/plain": [
       "<Figure size 720x720 with 1 Axes>"
      ]
     },
     "metadata": {},
     "output_type": "display_data"
    }
   ],
   "source": [
    "plt.title(\"Total Number of Answered/Abandoned/Transfered Calls\")\n",
    "plt.xlabel(\"Number of calls\")\n",
    "plt.figure(figsize = (10,10))\n",
    "sns.countplot(x = 'Time_Bucket',hue = 'Call_Status',data = df).set(title = \"Total Number of Answered/Abandoned/Transfered Calls\")"
   ]
  },
  {
   "cell_type": "code",
   "execution_count": null,
   "id": "f32e0626",
   "metadata": {},
   "outputs": [],
   "source": []
  },
  {
   "cell_type": "code",
   "execution_count": 52,
   "id": "efe2012d",
   "metadata": {},
   "outputs": [
    {
     "data": {
      "text/plain": [
       "[Text(0.5, 1.0, 'Number of Executives working in each time bucket')]"
      ]
     },
     "execution_count": 52,
     "metadata": {},
     "output_type": "execute_result"
    },
    {
     "data": {
      "image/png": "[encoded data removed]",
      "text/plain": [
       "<Figure size 720x720 with 1 Axes>"
      ]
     },
     "metadata": {},
     "output_type": "display_data"
    }
   ],
   "source": [
    "main =  df.groupby(by = \"Time_Bucket\").nunique().reset_index()[['Time_Bucket',\"Agent_ID\"]]\n",
    "plt.figure(figsize = (10,10))\n",
    "sns.barplot(data = main, x = 'Time_Bucket', y = 'Agent_ID').set(title = \"Number of Executives working in each time bucket\")"
   ]
  },
  {
   "cell_type": "code",
   "execution_count": 53,
   "id": "74a8e7cd",
   "metadata": {},
   "outputs": [
    {
     "ename": "NameError",
     "evalue": "name 'timer' is not defined",
     "output_type": "error",
     "traceback": [
      "\u001b[1;31m---------------------------------------------------------------------------\u001b[0m",
      "\u001b[1;31mNameError\u001b[0m                                 Traceback (most recent call last)",
      "\u001b[1;32m~\\AppData\\Local\\Temp/ipykernel_3112/3420481942.py\u001b[0m in \u001b[0;36m<module>\u001b[1;34m\u001b[0m\n\u001b[1;32m----> 1\u001b[1;33m \u001b[0mtimer\u001b[0m\u001b[1;33m\u001b[0m\u001b[1;33m\u001b[0m\u001b[0m\n\u001b[0m",
      "\u001b[1;31mNameError\u001b[0m: name 'timer' is not defined"
     ]
    }
   ],
   "source": [
    "timer "
   ]
  },
  {
   "cell_type": "code",
   "execution_count": 54,
   "id": "e6a54552",
   "metadata": {},
   "outputs": [],
   "source": [
    "n_df = pd.DataFrame({'Time_Bucket':\n",
    "                     ['21-22','22-23','23-24','24-1','1-2','2-3','3-4','4-5','5-6','6-7','7-8','8-9'],\n",
    "                      'Number of Total Calls in each time bucket':[3,3,2,2,1,1,1,1,3,4,4,5]})                                                      "
   ]
  },
  {
   "cell_type": "code",
   "execution_count": 55,
   "id": "bc4486af",
   "metadata": {
    "scrolled": true
   },
   "outputs": [
    {
     "data": {
      "text/html": [
       "<div>\n",
       "<style scoped>\n",
       "    .dataframe tbody tr th:only-of-type {\n",
       "        vertical-align: middle;\n",
       "    }\n",
       "\n",
       "    .dataframe tbody tr th {\n",
       "        vertical-align: top;\n",
       "    }\n",
       "\n",
       "    .dataframe thead th {\n",
       "        text-align: right;\n",
       "    }\n",
       "</style>\n",
       "<table border=\"1\" class=\"dataframe\">\n",
       "  <thead>\n",
       "    <tr style=\"text-align: right;\">\n",
       "      <th></th>\n",
       "      <th>Time_Bucket</th>\n",
       "      <th>Number of Total Calls in each time bucket</th>\n",
       "    </tr>\n",
       "  </thead>\n",
       "  <tbody>\n",
       "    <tr>\n",
       "      <th>0</th>\n",
       "      <td>21-22</td>\n",
       "      <td>3</td>\n",
       "    </tr>\n",
       "    <tr>\n",
       "      <th>1</th>\n",
       "      <td>22-23</td>\n",
       "      <td>3</td>\n",
       "    </tr>\n",
       "    <tr>\n",
       "      <th>2</th>\n",
       "      <td>23-24</td>\n",
       "      <td>2</td>\n",
       "    </tr>\n",
       "    <tr>\n",
       "      <th>3</th>\n",
       "      <td>24-1</td>\n",
       "      <td>2</td>\n",
       "    </tr>\n",
       "    <tr>\n",
       "      <th>4</th>\n",
       "      <td>1-2</td>\n",
       "      <td>1</td>\n",
       "    </tr>\n",
       "    <tr>\n",
       "      <th>5</th>\n",
       "      <td>2-3</td>\n",
       "      <td>1</td>\n",
       "    </tr>\n",
       "    <tr>\n",
       "      <th>6</th>\n",
       "      <td>3-4</td>\n",
       "      <td>1</td>\n",
       "    </tr>\n",
       "    <tr>\n",
       "      <th>7</th>\n",
       "      <td>4-5</td>\n",
       "      <td>1</td>\n",
       "    </tr>\n",
       "    <tr>\n",
       "      <th>8</th>\n",
       "      <td>5-6</td>\n",
       "      <td>3</td>\n",
       "    </tr>\n",
       "    <tr>\n",
       "      <th>9</th>\n",
       "      <td>6-7</td>\n",
       "      <td>4</td>\n",
       "    </tr>\n",
       "    <tr>\n",
       "      <th>10</th>\n",
       "      <td>7-8</td>\n",
       "      <td>4</td>\n",
       "    </tr>\n",
       "    <tr>\n",
       "      <th>11</th>\n",
       "      <td>8-9</td>\n",
       "      <td>5</td>\n",
       "    </tr>\n",
       "  </tbody>\n",
       "</table>\n",
       "</div>"
      ],
      "text/plain": [
       "   Time_Bucket  Number of Total Calls in each time bucket\n",
       "0        21-22                                          3\n",
       "1        22-23                                          3\n",
       "2        23-24                                          2\n",
       "3         24-1                                          2\n",
       "4          1-2                                          1\n",
       "5          2-3                                          1\n",
       "6          3-4                                          1\n",
       "7          4-5                                          1\n",
       "8          5-6                                          3\n",
       "9          6-7                                          4\n",
       "10         7-8                                          4\n",
       "11         8-9                                          5"
      ]
     },
     "execution_count": 55,
     "metadata": {},
     "output_type": "execute_result"
    }
   ],
   "source": [
    "n_df"
   ]
  },
  {
   "cell_type": "code",
   "execution_count": 56,
   "id": "c36cd5ca",
   "metadata": {},
   "outputs": [
    {
     "data": {
      "text/plain": [
       "Index(['Agent_Name', 'Agent_ID', 'Customer_Phone_No', 'Queue_Time(Secs)',\n",
       "       'Date_&_Time', 'Time', 'Time_Bucket', 'Duration(hh:mm:ss)',\n",
       "       'Call_Seconds (s)', 'Call_Status', 'Wrapped _By', 'Ringing',\n",
       "       'IVR _Duration'],\n",
       "      dtype='object')"
      ]
     },
     "execution_count": 56,
     "metadata": {},
     "output_type": "execute_result"
    }
   ],
   "source": [
    "df.columns"
   ]
  },
  {
   "cell_type": "code",
   "execution_count": 57,
   "id": "27096f94",
   "metadata": {},
   "outputs": [],
   "source": [
    "main1 = df.loc[df[\"Call_Status\"] == 'answered'].groupby(by = 'Time_Bucket').count().reset_index()[['Time_Bucket','Call_Status']]"
   ]
  },
  {
   "cell_type": "code",
   "execution_count": 58,
   "id": "f5101a8f",
   "metadata": {
    "scrolled": true
   },
   "outputs": [],
   "source": [
    "main1.rename(columns = {\"Call_Status\":\"Number of Total Calls in each time bucket\"},inplace = True)"
   ]
  },
  {
   "cell_type": "code",
   "execution_count": 59,
   "id": "f6383d95",
   "metadata": {},
   "outputs": [
    {
     "data": {
      "text/html": [
       "<div>\n",
       "<style scoped>\n",
       "    .dataframe tbody tr th:only-of-type {\n",
       "        vertical-align: middle;\n",
       "    }\n",
       "\n",
       "    .dataframe tbody tr th {\n",
       "        vertical-align: top;\n",
       "    }\n",
       "\n",
       "    .dataframe thead th {\n",
       "        text-align: right;\n",
       "    }\n",
       "</style>\n",
       "<table border=\"1\" class=\"dataframe\">\n",
       "  <thead>\n",
       "    <tr style=\"text-align: right;\">\n",
       "      <th></th>\n",
       "      <th>Time_Bucket</th>\n",
       "      <th>Number of Total Calls in each time bucket</th>\n",
       "    </tr>\n",
       "  </thead>\n",
       "  <tbody>\n",
       "    <tr>\n",
       "      <th>0</th>\n",
       "      <td>10-11</td>\n",
       "      <td>6368</td>\n",
       "    </tr>\n",
       "    <tr>\n",
       "      <th>1</th>\n",
       "      <td>11-12</td>\n",
       "      <td>8560</td>\n",
       "    </tr>\n",
       "    <tr>\n",
       "      <th>2</th>\n",
       "      <td>12-13</td>\n",
       "      <td>9432</td>\n",
       "    </tr>\n",
       "    <tr>\n",
       "      <th>3</th>\n",
       "      <td>13-14</td>\n",
       "      <td>8829</td>\n",
       "    </tr>\n",
       "    <tr>\n",
       "      <th>4</th>\n",
       "      <td>14-15</td>\n",
       "      <td>7974</td>\n",
       "    </tr>\n",
       "    <tr>\n",
       "      <th>5</th>\n",
       "      <td>15-16</td>\n",
       "      <td>7760</td>\n",
       "    </tr>\n",
       "    <tr>\n",
       "      <th>6</th>\n",
       "      <td>16-17</td>\n",
       "      <td>7852</td>\n",
       "    </tr>\n",
       "    <tr>\n",
       "      <th>7</th>\n",
       "      <td>17-18</td>\n",
       "      <td>7601</td>\n",
       "    </tr>\n",
       "    <tr>\n",
       "      <th>8</th>\n",
       "      <td>18-19</td>\n",
       "      <td>6200</td>\n",
       "    </tr>\n",
       "    <tr>\n",
       "      <th>9</th>\n",
       "      <td>19-20</td>\n",
       "      <td>4578</td>\n",
       "    </tr>\n",
       "    <tr>\n",
       "      <th>10</th>\n",
       "      <td>20-21</td>\n",
       "      <td>2870</td>\n",
       "    </tr>\n",
       "    <tr>\n",
       "      <th>11</th>\n",
       "      <td>9-10</td>\n",
       "      <td>4428</td>\n",
       "    </tr>\n",
       "  </tbody>\n",
       "</table>\n",
       "</div>"
      ],
      "text/plain": [
       "   Time_Bucket  Number of Total Calls in each time bucket\n",
       "0        10-11                                       6368\n",
       "1        11-12                                       8560\n",
       "2        12-13                                       9432\n",
       "3        13-14                                       8829\n",
       "4        14-15                                       7974\n",
       "5        15-16                                       7760\n",
       "6        16-17                                       7852\n",
       "7        17-18                                       7601\n",
       "8        18-19                                       6200\n",
       "9        19-20                                       4578\n",
       "10       20-21                                       2870\n",
       "11        9-10                                       4428"
      ]
     },
     "execution_count": 59,
     "metadata": {},
     "output_type": "execute_result"
    }
   ],
   "source": [
    "main1"
   ]
  },
  {
   "cell_type": "code",
   "execution_count": 60,
   "id": "6b46be29",
   "metadata": {},
   "outputs": [],
   "source": [
    "total_call = pd.concat([n_df,main1])"
   ]
  },
  {
   "cell_type": "code",
   "execution_count": 61,
   "id": "23a3a704",
   "metadata": {},
   "outputs": [
    {
     "data": {
      "text/plain": [
       "<AxesSubplot:xlabel='Time_Bucket', ylabel='Number of Total Calls in each time bucket'>"
      ]
     },
     "execution_count": 61,
     "metadata": {},
     "output_type": "execute_result"
    },
    {
     "data": {
      "image/png": "[encoded data removed]",
      "text/plain": [
       "<Figure size 432x288 with 1 Axes>"
      ]
     },
     "metadata": {},
     "output_type": "display_data"
    }
   ],
   "source": [
    "sns.barplot(x = 'Time_Bucket', y = 'Number of Total Calls in each time bucket',\n",
    "            data = total_call)"
   ]
  },
  {
   "cell_type": "code",
   "execution_count": 63,
   "id": "9ab2df6c",
   "metadata": {},
   "outputs": [
    {
     "data": {
      "text/plain": [
       "<AxesSubplot:xlabel='Time_Bucket', ylabel='Number of Total Calls in each time bucket'>"
      ]
     },
     "execution_count": 63,
     "metadata": {},
     "output_type": "execute_result"
    },
    {
     "data": {
      "image/png": "[encoded data removed]",
      "text/plain": [
       "<Figure size 432x288 with 1 Axes>"
      ]
     },
     "metadata": {},
     "output_type": "display_data"
    }
   ],
   "source": [
    "sns.barplot(x = 'Time_Bucket',y = \"Number of Total Calls in each time bucket\",data = n_df)"
   ]
  },
  {
   "cell_type": "code",
   "execution_count": null,
   "id": "c52eee61",
   "metadata": {},
   "outputs": [],
   "source": []
  }
 ],
 "metadata": {
  "kernelspec": {
   "display_name": "Python 3 (ipykernel)",
   "language": "python",
   "name": "python3"
  },
  "language_info": {
   "codemirror_mode": {
    "name": "ipython",
    "version": 3
   },
   "file_extension": ".py",
   "mimetype": "text/x-python",
   "name": "python",
   "nbconvert_exporter": "python",
   "pygments_lexer": "ipython3",
   "version": "3.9.7"
  }
 },
 "nbformat": 4,
 "nbformat_minor": 5
}
